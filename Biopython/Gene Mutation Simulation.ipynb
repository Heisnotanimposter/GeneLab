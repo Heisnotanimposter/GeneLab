{
  "nbformat": 4,
  "nbformat_minor": 0,
  "metadata": {
    "colab": {
      "provenance": [],
      "authorship_tag": "ABX9TyOiIwBzWgmdszwwcNa9yDq7",
      "include_colab_link": true
    },
    "kernelspec": {
      "name": "python3",
      "display_name": "Python 3"
    },
    "language_info": {
      "name": "python"
    }
  },
  "cells": [
    {
      "cell_type": "markdown",
      "metadata": {
        "id": "view-in-github",
        "colab_type": "text"
      },
      "source": [
        "<a href=\"https://colab.research.google.com/github/Heisnotanimposter/GeneLab/blob/main/%EC%8B%A4%ED%97%98%EC%9A%A9_%EC%A5%90%EC%9D%98_%EC%9C%A0%EC%A0%84%EC%9E%90_%EC%8B%9C%ED%80%80%EC%8A%A4.ipynb\" target=\"_parent\"><img src=\"https://colab.research.google.com/assets/colab-badge.svg\" alt=\"Open In Colab\"/></a>"
      ]
    },
    {
      "cell_type": "code",
      "execution_count": 11,
      "metadata": {
        "colab": {
          "base_uri": "https://localhost:8080/"
        },
        "id": "btb2XnrcrjtK",
        "outputId": "f2255aa8-8138-43dc-b276-bfb2e86f3df1"
      },
      "outputs": [
        {
          "output_type": "stream",
          "name": "stdout",
          "text": [
            "먹이 수를 입력하세요 (1에서 99 사이의 정수): 12\n",
            "개체 수를 입력하세요 (1에서 99 사이의 정수): 5\n",
            "최고 유사성 점수: 18\n",
            "최고 유전자 시퀀스: \n",
            "모든 실험 결과: []\n"
          ]
        }
      ],
      "source": [
        "import random\n",
        "\n",
        "def get_user_input(message):\n",
        "    while True:\n",
        "        try:\n",
        "            user_input = int(input(message))\n",
        "            if 0 < user_input < 100:\n",
        "                return user_input\n",
        "            else:\n",
        "                print(\"입력값은 1에서 99 사이의 정수여야 합니다.\")\n",
        "        except ValueError:\n",
        "            print(\"유효한 정수를 입력하세요.\")\n",
        "\n",
        "# 실험용 쥐의 유전자 시퀀스\n",
        "mouse_gene_sequence = \"ACGTCTAGGGTACGCTAG\"\n",
        "\n",
        "# 목표 유전자 시퀀스 (예: ATAGCA)\n",
        "target_sequence = \"ATAGCA\"\n",
        "\n",
        "# 사용자 입력 파라미터: 먹이 수, 개체 수\n",
        "num_feed = get_user_input(\"먹이 수를 입력하세요 (1에서 99 사이의 정수): \")\n",
        "num_population = get_user_input(\"개체 수를 입력하세요 (1에서 99 사이의 정수): \")\n",
        "\n",
        "# 실험 횟수\n",
        "num_experiments = 1000\n",
        "\n",
        "# 실험용 쥐의 유전자 시퀀스 길이\n",
        "sequence_length = len(mouse_gene_sequence)\n",
        "\n",
        "# 유사성 점수 계산 함수 (예: 해밍 거리)\n",
        "def calculate_similarity_score(seq1, seq2):\n",
        "    return sum(a != b for a, b in zip(seq1, seq2))\n",
        "\n",
        "def run_gene_simulation():\n",
        "    best_score = sequence_length  # 최저 점수 초기화\n",
        "    best_gene_sequence = \"\"\n",
        "    all_results = []  # 모든 실험 결과를 저장할 리스트\n",
        "\n",
        "    for _ in range(num_experiments):\n",
        "        random.seed()  # 무작위 발생기 초기화\n",
        "        mutated_gene_sequence = list(mouse_gene_sequence)\n",
        "\n",
        "        mutation_positions = random.sample(range(sequence_length), random.randint(1, 3))\n",
        "\n",
        "        for position in mutation_positions:\n",
        "            mutated_gene_sequence[position] = random.choice(\"ATCG\")\n",
        "        mutated_gene_sequence = ''.join(mutated_gene_sequence)\n",
        "\n",
        "        if len(mutated_gene_sequence) == len(target_sequence):\n",
        "            score = calculate_similarity_score(mutated_gene_sequence, target_sequence)\n",
        "            all_results.append((mutated_gene_sequence, score))\n",
        "\n",
        "            if score < best_score:\n",
        "                best_score = score\n",
        "                best_gene_sequence = mutated_gene_sequence\n",
        "\n",
        "    print(\"최고 유사성 점수:\", best_score)\n",
        "    print(\"최고 유전자 시퀀스:\", best_gene_sequence)\n",
        "    print(\"모든 실험 결과:\", all_results)\n",
        "\n",
        "if __name__ == \"__main__\":\n",
        "    run_gene_simulation()\n"
      ]
    },
    {
      "cell_type": "code",
      "source": [],
      "metadata": {
        "id": "o8de1HFLr-ZL"
      },
      "execution_count": null,
      "outputs": []
    }
  ]
}
