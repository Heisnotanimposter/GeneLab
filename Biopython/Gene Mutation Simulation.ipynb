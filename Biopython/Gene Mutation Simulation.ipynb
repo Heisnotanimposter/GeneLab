{
  "cells": [
    {
      "cell_type": "markdown",
      "metadata": {
        "colab_type": "text",
        "id": "view-in-github"
      },
      "source": [
        "<a href=\"https://colab.research.google.com/github/Heisnotanimposter/GeneLab/blob/main/%EC%8B%A4%ED%97%98%EC%9A%A9_%EC%A5%90%EC%9D%98_%EC%9C%A0%EC%A0%84%EC%9E%90_%EC%8B%9C%ED%80%80%EC%8A%A4.ipynb\" target=\"_parent\"><img src=\"https://colab.research.google.com/assets/colab-badge.svg\" alt=\"Open In Colab\"/></a>"
      ]
    },
    {
      "cell_type": "code",
      "execution_count": 11,
      "metadata": {
        "colab": {
          "base_uri": "https://localhost:8080/"
        },
        "id": "btb2XnrcrjtK",
        "outputId": "f2255aa8-8138-43dc-b276-bfb2e86f3df1"
      },
      "outputs": [
        {
          "name": "stdout",
          "output_type": "stream",
          "text": [
            "먹이 수를 입력하세요 (1에서 99 사이의 정수): 12\n",
            "개체 수를 입력하세요 (1에서 99 사이의 정수): 5\n",
            "최고 유사성 점수: 18\n",
            "최고 유전자 시퀀스: \n",
            "모든 실험 결과: []\n"
          ]
        }
      ],
      "source": []
    },
    {
      "cell_type": "code",
      "execution_count": null,
      "metadata": {
        "id": "o8de1HFLr-ZL"
      },
      "outputs": [],
      "source": [
        "import random\n",
        "\n",
        "def get_user_input(message, min_val=1, max_val=99):\n",
        "    while True:\n",
        "        try:\n",
        "            user_input = int(input(message))\n",
        "            if min_val <= user_input <= max_val:\n",
        "                return user_input\n",
        "            else:\n",
        "                print(f\"입력값은 {min_val}에서 {max_val} 사이의 정수여야 합니다.\")\n",
        "        except ValueError:\n",
        "            print(\"유효한 정수를 입력하세요.\")\n",
        "\n",
        "# Constants\n",
        "MOUSE_GENE_SEQUENCE = \"ACGTCTAGGGTACGCTAG\"\n",
        "TARGET_SEQUENCE = \"ATAGCA\"\n",
        "NUM_EXPERIMENTS = 1000\n",
        "\n",
        "# User Input\n",
        "num_feed = get_user_input(\"먹이 수를 입력하세요 (1에서 99 사이의 정수): \")\n",
        "num_population = get_user_input(\"개체 수를 입력하세요 (1에서 99 사이의 정수): \")\n",
        "\n",
        "# Length of the gene sequence\n",
        "sequence_length = len(MOUSE_GENE_SEQUENCE)\n",
        "\n",
        "def calculate_similarity_score(seq1, seq2):\n",
        "    return sum(a != b for a, b in zip(seq1, seq2))\n",
        "\n",
        "def run_gene_simulation():\n",
        "    best_score = sequence_length  # Initialize the lowest score with the maximum possible score\n",
        "    best_gene_sequence = \"\"\n",
        "    all_results = []\n",
        "\n",
        "    for _ in range(NUM_EXPERIMENTS):\n",
        "        mutated_gene_sequence = list(MOUSE_GENE_SEQUENCE)\n",
        "        mutation_positions = random.sample(range(sequence_length), random.randint(1, 3))\n",
        "\n",
        "        for position in mutation_positions:\n",
        "            mutated_gene_sequence[position] = random.choice(\"ATCG\")\n",
        "        mutated_gene_sequence = ''.join(mutated_gene_sequence)\n",
        "\n",
        "        score = calculate_similarity_score(mutated_gene_sequence, TARGET_SEQUENCE)\n",
        "        all_results.append((mutated_gene_sequence, score))\n",
        "\n",
        "        if score < best_score:\n",
        "            best_score = score\n",
        "            best_gene_sequence = mutated_gene_sequence\n",
        "\n",
        "    print(f\"Best Similarity Score: {best_score}\")\n",
        "    print(f\"Best Gene Sequence: {best_gene_sequence}\")\n",
        "    print(\"All Experiment Results:\")\n",
        "    for result in all_results:\n",
        "        print(result)\n",
        "\n",
        "if __name__ == \"__main__\":\n",
        "    run_gene_simulation()\n",
        "\n"
      ]
    },
    {
      "cell_type": "code",
      "execution_count": null,
      "metadata": {},
      "outputs": [],
      "source": [
        "\n"
      ]
    }
  ],
  "metadata": {
    "colab": {
      "authorship_tag": "ABX9TyOiIwBzWgmdszwwcNa9yDq7",
      "include_colab_link": true,
      "provenance": []
    },
    "kernelspec": {
      "display_name": "Python 3",
      "name": "python3"
    },
    "language_info": {
      "name": "python"
    }
  },
  "nbformat": 4,
  "nbformat_minor": 0
}
