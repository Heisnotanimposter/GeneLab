{
  "nbformat": 4,
  "nbformat_minor": 0,
  "metadata": {
    "colab": {
      "provenance": [],
      "authorship_tag": "ABX9TyNB2D85T85a1EZ4/F7ShToy",
      "include_colab_link": true
    },
    "kernelspec": {
      "name": "python3",
      "display_name": "Python 3"
    },
    "language_info": {
      "name": "python"
    }
  },
  "cells": [
    {
      "cell_type": "markdown",
      "metadata": {
        "id": "view-in-github",
        "colab_type": "text"
      },
      "source": [
        "<a href=\"https://colab.research.google.com/github/Heisnotanimposter/GeneLab/blob/main/getPDB.ipynb\" target=\"_parent\"><img src=\"https://colab.research.google.com/assets/colab-badge.svg\" alt=\"Open In Colab\"/></a>"
      ]
    },
    {
      "cell_type": "code",
      "execution_count": 32,
      "metadata": {
        "colab": {
          "base_uri": "https://localhost:8080/"
        },
        "id": "WNZoY08jDa9F",
        "outputId": "c5ec2489-ef90-4034-955b-27161080fb2e"
      },
      "outputs": [
        {
          "output_type": "stream",
          "name": "stdout",
          "text": [
            "Collecting biopython\n",
            "  Downloading biopython-1.83-cp310-cp310-manylinux_2_17_x86_64.manylinux2014_x86_64.whl (3.1 MB)\n",
            "\u001b[2K     \u001b[90m━━━━━━━━━━━━━━━━━━━━━━━━━━━━━━━━━━━━━━━━\u001b[0m \u001b[32m3.1/3.1 MB\u001b[0m \u001b[31m12.9 MB/s\u001b[0m eta \u001b[36m0:00:00\u001b[0m\n",
            "\u001b[?25hRequirement already satisfied: numpy in /usr/local/lib/python3.10/dist-packages (from biopython) (1.25.2)\n",
            "Installing collected packages: biopython\n",
            "Successfully installed biopython-1.83\n",
            "Downloading 1a8o...\n",
            "Downloading PDB structure '1a8o'...\n",
            "Downloading 1a1x...\n",
            "Downloading PDB structure '1a1x'...\n",
            "Downloading 5ter...\n",
            "Downloading PDB structure '5ter'...\n",
            "Download complete.\n"
          ]
        }
      ],
      "source": [
        "!pip install biopython\n",
        "\n",
        "from Bio.PDB import PDBList\n",
        "import os\n",
        "\n",
        "def download_pdb_files(pdb_ids, save_directory):\n",
        "    \"\"\"\n",
        "    Download PDB files given a list of PDB IDs and save them to the specified directory.\n",
        "\n",
        "    :param pdb_ids: A list of PDB IDs to download.\n",
        "    :param save_directory: The directory where the PDB files should be saved.\n",
        "    \"\"\"\n",
        "    pdbl = PDBList()\n",
        "    # Ensure the save directory exists\n",
        "    if not os.path.exists(save_directory):\n",
        "        os.makedirs(save_directory)\n",
        "    # Download PDB files\n",
        "    for pdb_id in pdb_ids:\n",
        "        print(f\"Downloading {pdb_id}...\")\n",
        "        pdbl.retrieve_pdb_file(pdb_id, pdir=save_directory, file_format=\"pdb\")\n",
        "\n",
        "    print(\"Download complete.\")\n",
        "\n",
        "# Example usage\n",
        "if __name__ == \"__main__\":\n",
        "    # List of PDB IDs you want to download\n",
        "    pdb_ids = ['1a8o', '1a1x', '5ter']  # Example PDB IDs\n",
        "    # Specify the directory to save the downloaded PDB files\n",
        "    save_directory = './pdb_files'\n",
        "\n",
        "    download_pdb_files(pdb_ids, save_directory)\n"
      ]
    },
    {
      "cell_type": "code",
      "source": [],
      "metadata": {
        "id": "RnJb2UaEDb0o"
      },
      "execution_count": null,
      "outputs": []
    }
  ]
}